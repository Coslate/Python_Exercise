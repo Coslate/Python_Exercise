{
 "cells": [
  {
   "cell_type": "code",
   "execution_count": 2,
   "metadata": {
    "collapsed": false
   },
   "outputs": [
    {
     "name": "stdout",
     "output_type": "stream",
     "text": [
      "25\n",
      "50\n"
     ]
    }
   ],
   "source": [
    "x = 25\n",
    "\n",
    "def Printer():\n",
    "    x = 50\n",
    "    return(x)\n",
    "\n",
    "print(x)\n",
    "print(Printer())"
   ]
  },
  {
   "cell_type": "code",
   "execution_count": 4,
   "metadata": {
    "collapsed": false
   },
   "outputs": [
    {
     "name": "stdout",
     "output_type": "stream",
     "text": [
      "Hello Sammy\n"
     ]
    }
   ],
   "source": [
    "name = \"This is a global name\"\n",
    "\n",
    "def greet():\n",
    "    name = \"Sammy\"\n",
    "    def hello():\n",
    "        print(\"Hello \"+name)\n",
    "    hello()\n",
    "greet()"
   ]
  },
  {
   "cell_type": "code",
   "execution_count": 5,
   "metadata": {
    "collapsed": false
   },
   "outputs": [
    {
     "name": "stdout",
     "output_type": "stream",
     "text": [
      "x is  50\n",
      "Changed local x to  2\n",
      "x is still 50\n"
     ]
    }
   ],
   "source": [
    "x = 50\n",
    "\n",
    "def func(x):\n",
    "    print(\"x is \", x)\n",
    "    x = 2\n",
    "    print(\"Changed local x to \", x)\n",
    "\n",
    "func(x)\n",
    "print(\"x is still\", x)"
   ]
  },
  {
   "cell_type": "code",
   "execution_count": 9,
   "metadata": {
    "collapsed": false
   },
   "outputs": [
    {
     "name": "stdout",
     "output_type": "stream",
     "text": [
      "Before calling func, x is  50\n",
      "this function is now using the global x!\n",
      "Because of global x is 50\n",
      "Run func(), changed global x to  2\n",
      "Value of x (outside of func()) is :  2\n"
     ]
    }
   ],
   "source": [
    "x = 50\n",
    "\n",
    "def func():\n",
    "    global x\n",
    "    print(\"this function is now using the global x!\")\n",
    "    print(\"Because of global x is\", x)\n",
    "    x = 2\n",
    "    print(\"Run func(), changed global x to \", x)\n",
    "    \n",
    "print(\"Before calling func, x is \", x)\n",
    "func()\n",
    "print(\"Value of x (outside of func()) is : \", x)"
   ]
  },
  {
   "cell_type": "code",
   "execution_count": 4,
   "metadata": {
    "collapsed": false
   },
   "outputs": [
    {
     "name": "stdout",
     "output_type": "stream",
     "text": [
      "Hello I AM A LOLCAL\n"
     ]
    }
   ],
   "source": [
    "#Global\n",
    "name = \"This is a global name\"\n",
    "\n",
    "def greet():\n",
    "    #Enclosing\n",
    "    name = \"Sammy\"\n",
    "    \n",
    "    def hello():\n",
    "        #Local\n",
    "        name = \"I AM A LOLCAL\"\n",
    "        print(\"Hello \"+name)\n",
    "        \n",
    "    hello()\n",
    "greet()"
   ]
  },
  {
   "cell_type": "code",
   "execution_count": null,
   "metadata": {
    "collapsed": true
   },
   "outputs": [],
   "source": []
  }
 ],
 "metadata": {
  "kernelspec": {
   "display_name": "Python 3",
   "language": "python",
   "name": "python3"
  },
  "language_info": {
   "codemirror_mode": {
    "name": "ipython",
    "version": 3
   },
   "file_extension": ".py",
   "mimetype": "text/x-python",
   "name": "python",
   "nbconvert_exporter": "python",
   "pygments_lexer": "ipython3",
   "version": "3.6.0"
  }
 },
 "nbformat": 4,
 "nbformat_minor": 2
}
