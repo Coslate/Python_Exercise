{
 "cells": [
  {
   "cell_type": "markdown",
   "metadata": {},
   "source": [
    "# Guessing Game Challenge\n",
    "\n",
    "Let's use `while` loops to create a guessing game.\n",
    "\n",
    "The Challenge:\n",
    "\n",
    "Write a program that picks a random integer from 1 to 100, and has players guess the number. The rules are:\n",
    "\n",
    "1. If a player's guess is less than 1 or greater than 100, say \"OUT OF BOUNDS\"\n",
    "2. On a player's first turn, if their guess is\n",
    " * within 10 of the number, return \"WARM!\"\n",
    " * further than 10 away from the number, return \"COLD!\"\n",
    "3. On all subsequent turns, if a guess is \n",
    " * closer to the number than the previous guess return \"WARMER!\"\n",
    " * farther from the number than the previous guess, return \"COLDER!\"\n",
    "4. When the player's guess equals the number, tell them they've guessed correctly *and* how many guesses it took!\n",
    "\n",
    "You can try this from scratch, or follow the steps outlined below. A separate Solution notebook has been provided. Good luck!\n"
   ]
  },
  {
   "cell_type": "markdown",
   "metadata": {},
   "source": [
    "#### First, pick a random integer from 1 to 100 using the random module and assign it to a variable\n",
    "\n",
    "Note: `random.randint(a,b)` returns a random integer in range `[a, b]`, including both end points."
   ]
  },
  {
   "cell_type": "code",
   "execution_count": 2,
   "metadata": {
    "collapsed": false
   },
   "outputs": [
    {
     "data": {
      "text/plain": [
       "88"
      ]
     },
     "execution_count": 2,
     "metadata": {},
     "output_type": "execute_result"
    }
   ],
   "source": [
    "from random import randint\n",
    "rand_val = randint(1, 100)\n",
    "rand_val"
   ]
  },
  {
   "cell_type": "markdown",
   "metadata": {},
   "source": [
    "#### Next, print an introduction to the game and explain the rules"
   ]
  },
  {
   "cell_type": "code",
   "execution_count": null,
   "metadata": {
    "collapsed": true
   },
   "outputs": [],
   "source": []
  },
  {
   "cell_type": "markdown",
   "metadata": {},
   "source": [
    "#### Create a list to store guesses\n",
    "\n",
    "Hint: zero is a good placeholder value. It's useful because it evaluates to \"False\""
   ]
  },
  {
   "cell_type": "code",
   "execution_count": null,
   "metadata": {
    "collapsed": true
   },
   "outputs": [],
   "source": []
  },
  {
   "cell_type": "markdown",
   "metadata": {},
   "source": [
    "#### Write a `while` loop that asks for a valid guess. Test it a few times to make sure it works."
   ]
  },
  {
   "cell_type": "code",
   "execution_count": null,
   "metadata": {
    "collapsed": true
   },
   "outputs": [],
   "source": [
    "while True:\n",
    "    \n",
    "    pass"
   ]
  },
  {
   "cell_type": "markdown",
   "metadata": {},
   "source": [
    "#### Write a `while` loop that compares the player's guess to our number. If the player guesses correctly, break from the loop. Otherwise, tell the player if they're warmer or colder, and continue asking for guesses.\n",
    "\n",
    "Some hints:\n",
    "* it may help to sketch out all possible combinations on paper first!\n",
    "* you can use the `abs()` function to find the positive difference between two numbers\n",
    "* if you append all new guesses to the list, then the previous guess is given as `guesses[-2]`"
   ]
  },
  {
   "cell_type": "code",
   "execution_count": 14,
   "metadata": {
    "collapsed": false
   },
   "outputs": [
    {
     "name": "stdout",
     "output_type": "stream",
     "text": [
      "Please enter your guess : 50\n",
      "COLD!\n",
      "\n",
      "Please enter your guess : 30\n",
      "WARMER!\n",
      "\n",
      "Please enter your guess : 25\n",
      "WARMER!\n",
      "\n",
      "Please enter your guess : 20\n",
      "WARMER!\n",
      "\n",
      "Please enter your guess : 15\n",
      "WARMER!\n",
      "\n",
      "Please enter your guess : 13\n",
      "WARMER!\n",
      "\n",
      "Please enter your guess : 11\n",
      "WARMER!\n",
      "\n",
      "Please enter your guess : 9\n",
      "WARMER!\n",
      "\n",
      "Please enter your guess : 5\n",
      "WARMER!\n",
      "\n",
      "Please enter your guess : 3\n",
      "COLDER!\n",
      "\n",
      "Please enter your guess : 8\n",
      "WARMER!\n",
      "\n",
      "Please enter your guess : 7\n",
      "CORRECT! You have guessed 12 times.\n",
      "\n"
     ]
    }
   ],
   "source": [
    "'''\n",
    "#Author  : Coslate\n",
    "#Purpose : This progriam is Guessing Game.\n",
    "#date    : 2018/03/14\n",
    "'''\n",
    "import random as rnd\n",
    "\n",
    "#main function\n",
    "def main():\n",
    "    '''main function'''\n",
    "    user_guess_count = 0\n",
    "    user_guess_val = 0\n",
    "    distance = 0\n",
    "    rand_val_targ = rnd.randint(1, 100)\n",
    "    #print(\"rand_val_targ = \", rand_val_targ)\n",
    "\n",
    "    while(True):\n",
    "        user_input = input(\"Please enter your guess : \")\n",
    "        if(user_input == \"End\"):\n",
    "            print(\"End the program. You have guessed {x} times.\\n\".format(x = user_guess_count))\n",
    "            break\n",
    "        else:\n",
    "            user_guess_val = int(user_input)\n",
    "            current_dist = abs(user_guess_val - rand_val_targ)\n",
    "\n",
    "            if((user_guess_val < 1) or (user_guess_val > 100)):\n",
    "                print(\"OUT OF BOUND!\\n\")\n",
    "            else:\n",
    "                if(current_dist == 0):\n",
    "                    print(\"CORRECT! You have guessed {x} times.\\n\".format(x = user_guess_count+1))\n",
    "                    break\n",
    "                if(user_guess_count > 0):\n",
    "                    if(current_dist > distance):\n",
    "                        print(\"COLDER!\\n\")\n",
    "                    else:\n",
    "                        print(\"WARMER!\\n\")\n",
    "                else:\n",
    "                    if(current_dist <= 10):\n",
    "                        print(\"WARM!\\n\")\n",
    "                    else:\n",
    "                        print(\"COLD!\\n\")\n",
    "\n",
    "            distance = current_dist\n",
    "            user_guess_count += 1\n",
    "\n",
    "#---------------execution---------------#\n",
    "if __name__ == '__main__':\n",
    "    main()"
   ]
  },
  {
   "cell_type": "markdown",
   "metadata": {},
   "source": [
    "That's it! You've just programmed your first game!\n",
    "\n",
    "In the next section we'll learn how to turn some of these repetitive actions into *functions* that can be called whenever we need them."
   ]
  },
  {
   "cell_type": "markdown",
   "metadata": {},
   "source": [
    "### Good Job!"
   ]
  }
 ],
 "metadata": {
  "kernelspec": {
   "display_name": "Python 3",
   "language": "python",
   "name": "python3"
  },
  "language_info": {
   "codemirror_mode": {
    "name": "ipython",
    "version": 3
   },
   "file_extension": ".py",
   "mimetype": "text/x-python",
   "name": "python",
   "nbconvert_exporter": "python",
   "pygments_lexer": "ipython3",
   "version": "3.6.0"
  }
 },
 "nbformat": 4,
 "nbformat_minor": 2
}
