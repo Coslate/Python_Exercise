{
 "cells": [
  {
   "cell_type": "code",
   "execution_count": 1,
   "metadata": {
    "collapsed": false
   },
   "outputs": [
    {
     "name": "stdout",
     "output_type": "stream",
     "text": [
      "x is currently:  0\n",
      "x is currently:  1\n",
      "x is currently:  2\n",
      "x is currently:  3\n",
      "x is currently:  4\n",
      "x is currently:  5\n",
      "x is currently:  6\n",
      "x is currently:  7\n",
      "x is currently:  8\n",
      "x is currently:  9\n"
     ]
    }
   ],
   "source": [
    "x = 0\n",
    "\n",
    "while x < 10:\n",
    "    print(\"x is currently: \", x)\n",
    "    x += 1"
   ]
  },
  {
   "cell_type": "code",
   "execution_count": 4,
   "metadata": {
    "collapsed": false
   },
   "outputs": [
    {
     "name": "stdout",
     "output_type": "stream",
     "text": [
      "x is currently :  0\n",
      "x is currently :  1\n",
      "x is currently :  2\n",
      "x is currently :  3\n",
      "x is currently :  4\n",
      "x is currently :  5\n",
      "x is currently :  6\n",
      "x is currently :  7\n",
      "x is currently :  8\n",
      "x is currently :  9\n",
      "All done!\n"
     ]
    }
   ],
   "source": [
    "x = 0\n",
    "\n",
    "while(x<10):\n",
    "    print(\"x is currently : \", x)\n",
    "    x += 1\n",
    "else:\n",
    "    print(\"All done!\")"
   ]
  },
  {
   "cell_type": "code",
   "execution_count": 11,
   "metadata": {
    "collapsed": false
   },
   "outputs": [
    {
     "name": "stdout",
     "output_type": "stream",
     "text": [
      "x is currently :  0\n",
      "x is still less than 10, adding 1 to x\n",
      "continuing...\n",
      "x is currently :  1\n",
      "x is still less than 10, adding 1 to x\n",
      "continuing...\n",
      "x is currently :  2\n",
      "x is still less than 10, adding 1 to x\n",
      "Hey x equals 3!\n",
      "x is currently :  3\n",
      "x is still less than 10, adding 1 to x\n",
      "continuing...\n",
      "x is currently :  4\n",
      "x is still less than 10, adding 1 to x\n",
      "continuing...\n",
      "x is currently :  5\n",
      "x is still less than 10, adding 1 to x\n",
      "continuing...\n",
      "x is currently :  6\n",
      "x is still less than 10, adding 1 to x\n",
      "continuing...\n",
      "x is currently :  7\n",
      "x is still less than 10, adding 1 to x\n",
      "continuing...\n",
      "x is currently :  8\n",
      "x is still less than 10, adding 1 to x\n",
      "continuing...\n",
      "x is currently :  9\n",
      "x is still less than 10, adding 1 to x\n",
      "continuing...\n",
      "x is : 10 done\n"
     ]
    }
   ],
   "source": [
    "x = 0\n",
    "\n",
    "while(x < 10):\n",
    "    print(\"x is currently : \", x)\n",
    "    print(\"x is still less than 10, adding 1 to x\")\n",
    "    x += 1\n",
    "    \n",
    "    if(x == 3):\n",
    "        print(\"Hey x equals 3!\")\n",
    "    else:\n",
    "        print(\"continuing...\")\n",
    "else:\n",
    "    print(\"x is : {x} done\".format(x = x))"
   ]
  },
  {
   "cell_type": "code",
   "execution_count": 2,
   "metadata": {
    "collapsed": false
   },
   "outputs": [
    {
     "name": "stdout",
     "output_type": "stream",
     "text": [
      "x is currently :  0\n",
      "x is still less than 10, adding 1 to x\n",
      "continuing...\n",
      "x is currently :  1\n",
      "x is still less than 10, adding 1 to x\n",
      "continuing...\n",
      "x is currently :  2\n",
      "x is still less than 10, adding 1 to x\n",
      "Hey x equals 3!\n"
     ]
    }
   ],
   "source": [
    "x = 0\n",
    "\n",
    "while(x < 10):\n",
    "    print(\"x is currently : \", x)\n",
    "    print(\"x is still less than 10, adding 1 to x\")\n",
    "    x += 1\n",
    "    \n",
    "    if(x == 3):\n",
    "        print(\"Hey x equals 3!\")\n",
    "        break\n",
    "    else:\n",
    "        print(\"continuing...\")\n",
    "        continue\n",
    "else:\n",
    "    print(\"x is : {x} done\".format(x = x))"
   ]
  },
  {
   "cell_type": "code",
   "execution_count": 3,
   "metadata": {
    "collapsed": false
   },
   "outputs": [
    {
     "name": "stdout",
     "output_type": "stream",
     "text": [
      "End of my script\n"
     ]
    }
   ],
   "source": [
    "x = [1, 2, 3]\n",
    "\n",
    "for val in x :\n",
    "    #comment\n",
    "    pass\n",
    "\n",
    "print(\"End of my script\")"
   ]
  },
  {
   "cell_type": "code",
   "execution_count": 5,
   "metadata": {
    "collapsed": false
   },
   "outputs": [
    {
     "name": "stdout",
     "output_type": "stream",
     "text": [
      "S\n",
      "m\n",
      "m\n",
      "y\n"
     ]
    }
   ],
   "source": [
    "my_string = \"Sammy\"\n",
    "\n",
    "for letter in my_string :\n",
    "    if(letter == 'a') : \n",
    "        continue\n",
    "    else :\n",
    "        print(letter)"
   ]
  },
  {
   "cell_type": "code",
   "execution_count": 7,
   "metadata": {
    "collapsed": false
   },
   "outputs": [
    {
     "name": "stdout",
     "output_type": "stream",
     "text": [
      "S\n",
      "a\n"
     ]
    }
   ],
   "source": [
    "my_string = \"Sammy\"\n",
    "\n",
    "for letter in my_string :\n",
    "    if(letter == 'm') : \n",
    "        break\n",
    "    else :\n",
    "        print(letter)"
   ]
  },
  {
   "cell_type": "code",
   "execution_count": 8,
   "metadata": {
    "collapsed": false
   },
   "outputs": [
    {
     "name": "stdout",
     "output_type": "stream",
     "text": [
      "x = 0\n",
      "x = 1\n"
     ]
    }
   ],
   "source": [
    "x = 0\n",
    "\n",
    "while(x<5) :\n",
    "    if(x == 2) :\n",
    "        break;\n",
    "    else :\n",
    "        print(f\"x = {x}\")\n",
    "        x += 1"
   ]
  },
  {
   "cell_type": "code",
   "execution_count": null,
   "metadata": {
    "collapsed": true
   },
   "outputs": [],
   "source": []
  }
 ],
 "metadata": {
  "kernelspec": {
   "display_name": "Python 3",
   "language": "python",
   "name": "python3"
  },
  "language_info": {
   "codemirror_mode": {
    "name": "ipython",
    "version": 3
   },
   "file_extension": ".py",
   "mimetype": "text/x-python",
   "name": "python",
   "nbconvert_exporter": "python",
   "pygments_lexer": "ipython3",
   "version": "3.6.0"
  }
 },
 "nbformat": 4,
 "nbformat_minor": 2
}
